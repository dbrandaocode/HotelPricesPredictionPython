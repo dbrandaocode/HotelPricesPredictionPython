{
 "cells": [
  {
   "cell_type": "code",
   "execution_count": 1,
   "metadata": {},
   "outputs": [],
   "source": [
    "import pandas as pd\n",
    "from sklearn.model_selection import train_test_split\n",
    "from sklearn.svm import SVC\n",
    "from sklearn.metrics import accuracy_score, precision_score, recall_score, f1_score\n",
    "\n",
    "# Lê o conjunto de dados do arquivo csv\n",
    "df = pd.read_csv('dataset.csv', sep=';')"
   ]
  },
  {
   "cell_type": "code",
   "execution_count": 2,
   "metadata": {},
   "outputs": [],
   "source": [
    "# Divide o conjunto de dados em treinamento e teste\n",
    "X = df.drop('cancelada', axis=1) # seleciona todas as colunas, exceto a coluna 'cancelada'\n",
    "y = df['cancelada'] # seleciona apenas a coluna 'cancelada'\n",
    "X_train, X_test, y_train, y_test = train_test_split(X, y, test_size=0.2, random_state=42)"
   ]
  },
  {
   "cell_type": "code",
   "execution_count": 3,
   "metadata": {},
   "outputs": [],
   "source": [
    "from sklearn.preprocessing import OneHotEncoder\n",
    "\n",
    "# Cria o objeto de codificação\n",
    "encoder = OneHotEncoder(handle_unknown='ignore')\n",
    "\n",
    "# Codifica as features categóricas do conjunto de treinamento\n",
    "X_train_encoded = encoder.fit_transform(X_train)\n",
    "\n",
    "# Codifica as features categóricas do conjunto de teste\n",
    "X_test_encoded = encoder.transform(X_test)"
   ]
  },
  {
   "cell_type": "code",
   "execution_count": 4,
   "metadata": {},
   "outputs": [],
   "source": [
    "# Treina o modelo SVC\n",
    "model = SVC(kernel='poly')\n",
    "model.fit(X_train_encoded, y_train)\n",
    "\n",
    "# Faz previsões para o conjunto de teste\n",
    "y_pred = model.predict(X_test_encoded)"
   ]
  },
  {
   "cell_type": "code",
   "execution_count": 5,
   "metadata": {},
   "outputs": [
    {
     "name": "stdout",
     "output_type": "stream",
     "text": [
      "Accuracy: 0.789\n",
      "Precision: 0.8951310861423221\n"
     ]
    }
   ],
   "source": [
    "# Codifica as features categóricas do conjunto de teste\n",
    "X_test_encoded = encoder.transform(X_test)\n",
    "\n",
    "# Faz previsões para o conjunto de teste\n",
    "y_pred = model.predict(X_test_encoded)\n",
    "\n",
    "# Avalia o desempenho do modelo\n",
    "accuracy = accuracy_score(y_test, y_pred)\n",
    "precision = precision_score(y_test, y_pred, pos_label='yes')\n",
    "\n",
    "\n",
    "print('Accuracy:', accuracy)\n",
    "print('Precision:', precision)\n"
   ]
  },
  {
   "cell_type": "code",
   "execution_count": 6,
   "metadata": {},
   "outputs": [],
   "source": [
    "import pandas as pd\n",
    "from sklearn.svm import SVC"
   ]
  },
  {
   "cell_type": "code",
   "execution_count": 7,
   "metadata": {},
   "outputs": [],
   "source": [
    "# Lê o arquivo \"dataset_naoclassificado.csv\"\n",
    "df_naoclassificado = pd.read_csv(\"dataset_naoclassificado.csv\",  sep=';')\n",
    "\n"
   ]
  },
  {
   "cell_type": "code",
   "execution_count": 8,
   "metadata": {},
   "outputs": [],
   "source": [
    "X_naoclassificado = df_naoclassificado[['id', 'antecedencia_da_reserva', 'mes_chegada', 'dia_chegada',\n",
    "       'noites_da_estadia', 'noites_fim_de_semana', 'hotel_de_praia', 'regime',\n",
    "       'adultos', 'criancas', 'bebes', 'ja_cliente',\n",
    "       'cancelamentos_anteriores', 'reservas_anteriores_nao_canceladas',\n",
    "       'alteracoes_da_reserva', 'total_de_pedidos', 'tipo_deposito']]\n",
    "X_naoclassificado_encoded = encoder.transform(X_naoclassificado)\n",
    "\n"
   ]
  },
  {
   "cell_type": "code",
   "execution_count": 9,
   "metadata": {},
   "outputs": [],
   "source": [
    "y_pred = model.predict(X_naoclassificado_encoded)\n",
    "\n"
   ]
  },
  {
   "cell_type": "code",
   "execution_count": 10,
   "metadata": {},
   "outputs": [],
   "source": [
    "df_pred = pd.DataFrame({\"id\":X_naoclassificado['id'],\"cancelada\": y_pred})"
   ]
  },
  {
   "cell_type": "code",
   "execution_count": 11,
   "metadata": {},
   "outputs": [],
   "source": [
    "def convert_to_int(value):\n",
    "    if value == \"yes\":\n",
    "        return 1\n",
    "    elif value == \"no\":\n",
    "        return 0\n",
    "df_pred['cancelada'] = df_pred['cancelada'].apply(convert_to_int)\n",
    "df_pred.to_csv(\"classificacao_estimada.csv\", index=False,sep=\";\")"
   ]
  }
 ],
 "metadata": {
  "kernelspec": {
   "display_name": "base",
   "language": "python",
   "name": "python3"
  },
  "language_info": {
   "codemirror_mode": {
    "name": "ipython",
    "version": 3
   },
   "file_extension": ".py",
   "mimetype": "text/x-python",
   "name": "python",
   "nbconvert_exporter": "python",
   "pygments_lexer": "ipython3",
   "version": "3.9.13"
  },
  "orig_nbformat": 4,
  "vscode": {
   "interpreter": {
    "hash": "070b3165feb7c6b80d86eae31372e6467c727813fb83fde739cc7c5246eef9ee"
   }
  }
 },
 "nbformat": 4,
 "nbformat_minor": 2
}
